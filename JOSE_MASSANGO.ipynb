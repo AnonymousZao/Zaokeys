# [Problem 1] Implementation using exponentiation arithmetic operators
THICKNESS = 0.00008
folded_thickness = THICKNESS * (2 ** 43)
print("Thickness: {} meters".format(folded_thickness))

# Convert meters to kilometers and display with two decimal places
print("Thickness: {: .2f} kilometers".format(folded_thickness / 1000))

# [Problem 3] Using a for statement
folded_thickness_for = THICKNESS
for _ in range(43):
    folded_thickness_for *= 2
print("Thickness after 43 folds using for loop: {} meters".format(folded_thickness_for))

